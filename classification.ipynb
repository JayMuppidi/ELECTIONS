{
 "cells": [
  {
   "cell_type": "code",
   "execution_count": 120,
   "id": "8b35ae62",
   "metadata": {},
   "outputs": [],
   "source": [
    "import pandas as pd\n",
    "from sklearn.model_selection import train_test_split\n",
    "from sklearn.preprocessing import LabelEncoder\n",
    "from sklearn.ensemble import RandomForestClassifier\n",
    "from sklearn.preprocessing import OneHotEncoder, StandardScaler, LabelEncoder\n",
    "from sklearn.compose import ColumnTransformer\n",
    "from sklearn.linear_model import LogisticRegression\n",
    "from sklearn.pipeline import make_pipeline\n",
    "from sklearn.ensemble import RandomForestClassifier\n",
    "from sklearn.model_selection import train_test_split\n",
    "from sklearn.model_selection import cross_validate\n",
    "from sklearn.metrics import confusion_matrix\n",
    "import matplotlib.pyplot as plt\n",
    "from sklearn.metrics import accuracy_score, classification_report"
   ]
  },
  {
   "cell_type": "code",
   "execution_count": 206,
   "id": "2b43811b",
   "metadata": {},
   "outputs": [],
   "source": [
    "url = './elections2019.csv'\n",
    "df = pd.read_csv(url, low_memory=False)\n",
    "df.drop(['Candidate', 'DelimID', 'ENOP', 'pid', 'Party_Type_TCPD', 'Last_Party', 'Last_Party_ID', 'Last_Constituency_Name', 'TCPD_Prof_Main', 'TCPD_Prof_Main_Desc', 'TCPD_Prof_Second', 'TCPD_Prof_Second_Desc'], axis=1, inplace=True)\n",
    "# Remove data that isn't from 2014 or 2019\n",
    "df = df[(df['Year'] == 2014) | (df['Year'] == 2019)]\n",
    "\n",
    "\n",
    "# Making the reasonable assumption that we want to prioritize predicting the winner, \n",
    "# we discard candidates that were nowhere near winning\n",
    "# Remove candidates that weren't in the top 5\n",
    "#df = df[df['Position'].between(1, 5)] "
   ]
  },
  {
   "cell_type": "code",
   "execution_count": 238,
   "id": "02dbb51d",
   "metadata": {},
   "outputs": [],
   "source": [
    "X = df[['Party', 'State_Name', 'Candidate_Type', 'Constituency_Type', 'Sub_Region', 'Same_Constituency', 'Same_Party', 'Turncoat', 'Incumbent', 'last_poll', 'MyNeta_education', 'Election_Type']]\n",
    "y = df['Position']\n",
    "# Convert categorical variables to numerical using LabelEncoder\n",
    "pd.options.mode.chained_assignment = None\n",
    "le = LabelEncoder()\n",
    "X['Party'] = le.fit_transform(X['Party'])\n",
    "X['State_Name'] = le.fit_transform(X['State_Name'])\n",
    "X['Candidate_Type'] = le.fit_transform(X['Candidate_Type'])\n",
    "X['Constituency_Type'] = le.fit_transform(X['Constituency_Type'])\n",
    "X['Sub_Region'] = le.fit_transform(X['Sub_Region'])\n",
    "X['Same_Constituency'] = le.fit_transform(X['Same_Constituency'])\n",
    "X['Same_Party'] = le.fit_transform(X['Same_Party'])\n",
    "X['Turncoat'] = le.fit_transform(X['Turncoat'])\n",
    "X['Incumbent'] = le.fit_transform(X['Incumbent'])\n",
    "X['last_poll'] = le.fit_transform(X['last_poll'])\n",
    "X['MyNeta_education'] = le.fit_transform(X['MyNeta_education'])\n",
    "X['Election_Type'] = le.fit_transform(X['Election_Type'])\n",
    "y = y.apply(lambda x: 1 if x==1 else 0)\n",
    "# Data Split into Training and Testing sets\n",
    "X_train, X_test, y_train, y_test = train_test_split(X, y, test_size=0.2, random_state=42)\n",
    "\n",
    "# Train the model (Random Forest Classifier)\n",
    "model = RandomForestClassifier(random_state=42)"
   ]
  },
  {
   "cell_type": "code",
   "execution_count": 239,
   "id": "5ba798f6",
   "metadata": {},
   "outputs": [
    {
     "name": "stdout",
     "output_type": "stream",
     "text": [
      "CPU times: user 406 ms, sys: 5.38 ms, total: 412 ms\n",
      "Wall time: 412 ms\n"
     ]
    },
    {
     "data": {
      "text/html": [
       "<style>#sk-container-id-33 {color: black;background-color: white;}#sk-container-id-33 pre{padding: 0;}#sk-container-id-33 div.sk-toggleable {background-color: white;}#sk-container-id-33 label.sk-toggleable__label {cursor: pointer;display: block;width: 100%;margin-bottom: 0;padding: 0.3em;box-sizing: border-box;text-align: center;}#sk-container-id-33 label.sk-toggleable__label-arrow:before {content: \"▸\";float: left;margin-right: 0.25em;color: #696969;}#sk-container-id-33 label.sk-toggleable__label-arrow:hover:before {color: black;}#sk-container-id-33 div.sk-estimator:hover label.sk-toggleable__label-arrow:before {color: black;}#sk-container-id-33 div.sk-toggleable__content {max-height: 0;max-width: 0;overflow: hidden;text-align: left;background-color: #f0f8ff;}#sk-container-id-33 div.sk-toggleable__content pre {margin: 0.2em;color: black;border-radius: 0.25em;background-color: #f0f8ff;}#sk-container-id-33 input.sk-toggleable__control:checked~div.sk-toggleable__content {max-height: 200px;max-width: 100%;overflow: auto;}#sk-container-id-33 input.sk-toggleable__control:checked~label.sk-toggleable__label-arrow:before {content: \"▾\";}#sk-container-id-33 div.sk-estimator input.sk-toggleable__control:checked~label.sk-toggleable__label {background-color: #d4ebff;}#sk-container-id-33 div.sk-label input.sk-toggleable__control:checked~label.sk-toggleable__label {background-color: #d4ebff;}#sk-container-id-33 input.sk-hidden--visually {border: 0;clip: rect(1px 1px 1px 1px);clip: rect(1px, 1px, 1px, 1px);height: 1px;margin: -1px;overflow: hidden;padding: 0;position: absolute;width: 1px;}#sk-container-id-33 div.sk-estimator {font-family: monospace;background-color: #f0f8ff;border: 1px dotted black;border-radius: 0.25em;box-sizing: border-box;margin-bottom: 0.5em;}#sk-container-id-33 div.sk-estimator:hover {background-color: #d4ebff;}#sk-container-id-33 div.sk-parallel-item::after {content: \"\";width: 100%;border-bottom: 1px solid gray;flex-grow: 1;}#sk-container-id-33 div.sk-label:hover label.sk-toggleable__label {background-color: #d4ebff;}#sk-container-id-33 div.sk-serial::before {content: \"\";position: absolute;border-left: 1px solid gray;box-sizing: border-box;top: 0;bottom: 0;left: 50%;z-index: 0;}#sk-container-id-33 div.sk-serial {display: flex;flex-direction: column;align-items: center;background-color: white;padding-right: 0.2em;padding-left: 0.2em;position: relative;}#sk-container-id-33 div.sk-item {position: relative;z-index: 1;}#sk-container-id-33 div.sk-parallel {display: flex;align-items: stretch;justify-content: center;background-color: white;position: relative;}#sk-container-id-33 div.sk-item::before, #sk-container-id-33 div.sk-parallel-item::before {content: \"\";position: absolute;border-left: 1px solid gray;box-sizing: border-box;top: 0;bottom: 0;left: 50%;z-index: -1;}#sk-container-id-33 div.sk-parallel-item {display: flex;flex-direction: column;z-index: 1;position: relative;background-color: white;}#sk-container-id-33 div.sk-parallel-item:first-child::after {align-self: flex-end;width: 50%;}#sk-container-id-33 div.sk-parallel-item:last-child::after {align-self: flex-start;width: 50%;}#sk-container-id-33 div.sk-parallel-item:only-child::after {width: 0;}#sk-container-id-33 div.sk-dashed-wrapped {border: 1px dashed gray;margin: 0 0.4em 0.5em 0.4em;box-sizing: border-box;padding-bottom: 0.4em;background-color: white;}#sk-container-id-33 div.sk-label label {font-family: monospace;font-weight: bold;display: inline-block;line-height: 1.2em;}#sk-container-id-33 div.sk-label-container {text-align: center;}#sk-container-id-33 div.sk-container {/* jupyter's `normalize.less` sets `[hidden] { display: none; }` but bootstrap.min.css set `[hidden] { display: none !important; }` so we also need the `!important` here to be able to override the default hidden behavior on the sphinx rendered scikit-learn.org. See: https://github.com/scikit-learn/scikit-learn/issues/21755 */display: inline-block !important;position: relative;}#sk-container-id-33 div.sk-text-repr-fallback {display: none;}</style><div id=\"sk-container-id-33\" class=\"sk-top-container\"><div class=\"sk-text-repr-fallback\"><pre>RandomForestClassifier(random_state=42)</pre><b>In a Jupyter environment, please rerun this cell to show the HTML representation or trust the notebook. <br />On GitHub, the HTML representation is unable to render, please try loading this page with nbviewer.org.</b></div><div class=\"sk-container\" hidden><div class=\"sk-item\"><div class=\"sk-estimator sk-toggleable\"><input class=\"sk-toggleable__control sk-hidden--visually\" id=\"sk-estimator-id-33\" type=\"checkbox\" checked><label for=\"sk-estimator-id-33\" class=\"sk-toggleable__label sk-toggleable__label-arrow\">RandomForestClassifier</label><div class=\"sk-toggleable__content\"><pre>RandomForestClassifier(random_state=42)</pre></div></div></div></div></div>"
      ],
      "text/plain": [
       "RandomForestClassifier(random_state=42)"
      ]
     },
     "execution_count": 239,
     "metadata": {},
     "output_type": "execute_result"
    }
   ],
   "source": [
    "%%time\n",
    "model.fit(X_train, y_train)"
   ]
  },
  {
   "cell_type": "markdown",
   "id": "3725ada0",
   "metadata": {},
   "source": [
    "# Performance"
   ]
  },
  {
   "cell_type": "code",
   "execution_count": 230,
   "id": "068925d3",
   "metadata": {},
   "outputs": [
    {
     "data": {
      "text/plain": [
       "96.53493699885452"
      ]
     },
     "execution_count": 230,
     "metadata": {},
     "output_type": "execute_result"
    }
   ],
   "source": [
    "model.score(X_test, y_test) * 100"
   ]
  },
  {
   "cell_type": "markdown",
   "id": "631e3ae0",
   "metadata": {},
   "source": [
    "While this seems like an amazing performance, it is important to realize since winners are much less common compared to losers, the model can achieve similar accuracies by simply predicting that every candidate is going to lose. \n",
    "\n",
    "Thus, in order to effectively gauge the model's performance, we need to look at accuracy for predicting winners and losers seperately. In order to do this, we can analyze a confusion matrix."
   ]
  },
  {
   "cell_type": "code",
   "execution_count": 231,
   "id": "2180f4f5",
   "metadata": {},
   "outputs": [],
   "source": [
    "y_pred = model.predict(X_test)"
   ]
  },
  {
   "cell_type": "code",
   "execution_count": 232,
   "id": "a2e3a701",
   "metadata": {},
   "outputs": [
    {
     "data": {
      "text/plain": [
       "array([[3242,   43],\n",
       "       [  78,  129]])"
      ]
     },
     "execution_count": 232,
     "metadata": {},
     "output_type": "execute_result"
    }
   ],
   "source": [
    "confusion_matrix(y_test, y_pred)"
   ]
  },
  {
   "cell_type": "code",
   "execution_count": 233,
   "id": "f9f5b253",
   "metadata": {},
   "outputs": [],
   "source": [
    "def find_TP(y, y_hat):\n",
    "   # counts the number of true positives (y = 1, y_hat = 1)\n",
    "   return sum((y == 1) & (y_hat == 1))\n",
    "def find_FN(y, y_hat):\n",
    "   # counts the number of false negatives (y = 1, y_hat = 0) Type-II error\n",
    "   return sum((y == 1) & (y_hat == 0))\n",
    "def find_FP(y, y_hat):\n",
    "   # counts the number of false positives (y = 0, y_hat = 1) Type-I error\n",
    "   return sum((y == 0) & (y_hat == 1))\n",
    "def find_TN(y, y_hat):\n",
    "   # counts the number of true negatives (y = 0, y_hat = 0)\n",
    "   return sum((y == 0) & (y_hat == 0))"
   ]
  },
  {
   "cell_type": "code",
   "execution_count": 234,
   "id": "a60f5dfe",
   "metadata": {},
   "outputs": [
    {
     "name": "stdout",
     "output_type": "stream",
     "text": [
      "TP: 129\n",
      "FN: 78\n",
      "FP: 43\n",
      "TN: 3242\n",
      "Precision: 0.75\n"
     ]
    }
   ],
   "source": [
    "TP = find_TP(y_test, y_pred)\n",
    "FN = find_FN(y_test, y_pred)\n",
    "FP = find_FP(y_test, y_pred)\n",
    "TN = find_TN(y_test, y_pred)\n",
    "print('TP:',TP)\n",
    "print('FN:',FN)\n",
    "print('FP:',FP)\n",
    "print('TN:',TN)\n",
    "precision = TP/(TP+FP)\n",
    "print('Precision:',precision)"
   ]
  },
  {
   "cell_type": "markdown",
   "id": "3a55c12e",
   "metadata": {},
   "source": [
    "As we can observe, although it predicts losers quite accurately, the same cannot be said about predicting winners. And while 75% is not terrible, there is certainly room for improvement. "
   ]
  },
  {
   "cell_type": "markdown",
   "id": "b7a1f7d3",
   "metadata": {},
   "source": [
    "Initially, I had removed candidates that hadn't placed in the top 5 as I thought the values would add little to the accruacy of the model, however including them increased accuracy, hence including voter share percentages will also have a positive impact on the model's accuracy. Let's rebuild the model this time with the voter share percentages. It will allow for the model to better understand the magnitude of the win. "
   ]
  },
  {
   "cell_type": "code",
   "execution_count": 243,
   "id": "6c64b745",
   "metadata": {},
   "outputs": [],
   "source": [
    "X = df[['Party', 'State_Name', 'Candidate_Type', 'Constituency_Type', 'Sub_Region', 'Same_Constituency', 'Vote_Share_Percentage','Same_Party', 'Turncoat', 'Incumbent', 'last_poll', 'MyNeta_education', 'Election_Type']]\n",
    "y = df['Position']\n",
    "# Convert categorical variables to numerical using LabelEncoder\n",
    "pd.options.mode.chained_assignment = None\n",
    "le = LabelEncoder()\n",
    "X['Party'] = le.fit_transform(X['Party'])\n",
    "X['State_Name'] = le.fit_transform(X['State_Name'])\n",
    "X['Candidate_Type'] = le.fit_transform(X['Candidate_Type'])\n",
    "X['Constituency_Type'] = le.fit_transform(X['Constituency_Type'])\n",
    "X['Sub_Region'] = le.fit_transform(X['Sub_Region'])\n",
    "X['Same_Constituency'] = le.fit_transform(X['Same_Constituency'])\n",
    "X['Same_Party'] = le.fit_transform(X['Same_Party'])\n",
    "X['Turncoat'] = le.fit_transform(X['Turncoat'])\n",
    "X['Incumbent'] = le.fit_transform(X['Incumbent'])\n",
    "X['last_poll'] = le.fit_transform(X['last_poll'])\n",
    "X['MyNeta_education'] = le.fit_transform(X['MyNeta_education'])\n",
    "X['Election_Type'] = le.fit_transform(X['Election_Type'])\n",
    "y = y.apply(lambda x: 1 if x==1 else 0)\n",
    "# Data Split into Training and Testing sets\n",
    "X_train, X_test, y_train, y_test = train_test_split(X, y, test_size=0.2, random_state=42)\n",
    "\n",
    "# Train the model (Random Forest Classifier)\n",
    "model = RandomForestClassifier(random_state=42)"
   ]
  },
  {
   "cell_type": "code",
   "execution_count": 244,
   "id": "89823de3",
   "metadata": {},
   "outputs": [
    {
     "name": "stdout",
     "output_type": "stream",
     "text": [
      "CPU times: user 382 ms, sys: 4.62 ms, total: 387 ms\n",
      "Wall time: 386 ms\n"
     ]
    },
    {
     "data": {
      "text/html": [
       "<style>#sk-container-id-36 {color: black;background-color: white;}#sk-container-id-36 pre{padding: 0;}#sk-container-id-36 div.sk-toggleable {background-color: white;}#sk-container-id-36 label.sk-toggleable__label {cursor: pointer;display: block;width: 100%;margin-bottom: 0;padding: 0.3em;box-sizing: border-box;text-align: center;}#sk-container-id-36 label.sk-toggleable__label-arrow:before {content: \"▸\";float: left;margin-right: 0.25em;color: #696969;}#sk-container-id-36 label.sk-toggleable__label-arrow:hover:before {color: black;}#sk-container-id-36 div.sk-estimator:hover label.sk-toggleable__label-arrow:before {color: black;}#sk-container-id-36 div.sk-toggleable__content {max-height: 0;max-width: 0;overflow: hidden;text-align: left;background-color: #f0f8ff;}#sk-container-id-36 div.sk-toggleable__content pre {margin: 0.2em;color: black;border-radius: 0.25em;background-color: #f0f8ff;}#sk-container-id-36 input.sk-toggleable__control:checked~div.sk-toggleable__content {max-height: 200px;max-width: 100%;overflow: auto;}#sk-container-id-36 input.sk-toggleable__control:checked~label.sk-toggleable__label-arrow:before {content: \"▾\";}#sk-container-id-36 div.sk-estimator input.sk-toggleable__control:checked~label.sk-toggleable__label {background-color: #d4ebff;}#sk-container-id-36 div.sk-label input.sk-toggleable__control:checked~label.sk-toggleable__label {background-color: #d4ebff;}#sk-container-id-36 input.sk-hidden--visually {border: 0;clip: rect(1px 1px 1px 1px);clip: rect(1px, 1px, 1px, 1px);height: 1px;margin: -1px;overflow: hidden;padding: 0;position: absolute;width: 1px;}#sk-container-id-36 div.sk-estimator {font-family: monospace;background-color: #f0f8ff;border: 1px dotted black;border-radius: 0.25em;box-sizing: border-box;margin-bottom: 0.5em;}#sk-container-id-36 div.sk-estimator:hover {background-color: #d4ebff;}#sk-container-id-36 div.sk-parallel-item::after {content: \"\";width: 100%;border-bottom: 1px solid gray;flex-grow: 1;}#sk-container-id-36 div.sk-label:hover label.sk-toggleable__label {background-color: #d4ebff;}#sk-container-id-36 div.sk-serial::before {content: \"\";position: absolute;border-left: 1px solid gray;box-sizing: border-box;top: 0;bottom: 0;left: 50%;z-index: 0;}#sk-container-id-36 div.sk-serial {display: flex;flex-direction: column;align-items: center;background-color: white;padding-right: 0.2em;padding-left: 0.2em;position: relative;}#sk-container-id-36 div.sk-item {position: relative;z-index: 1;}#sk-container-id-36 div.sk-parallel {display: flex;align-items: stretch;justify-content: center;background-color: white;position: relative;}#sk-container-id-36 div.sk-item::before, #sk-container-id-36 div.sk-parallel-item::before {content: \"\";position: absolute;border-left: 1px solid gray;box-sizing: border-box;top: 0;bottom: 0;left: 50%;z-index: -1;}#sk-container-id-36 div.sk-parallel-item {display: flex;flex-direction: column;z-index: 1;position: relative;background-color: white;}#sk-container-id-36 div.sk-parallel-item:first-child::after {align-self: flex-end;width: 50%;}#sk-container-id-36 div.sk-parallel-item:last-child::after {align-self: flex-start;width: 50%;}#sk-container-id-36 div.sk-parallel-item:only-child::after {width: 0;}#sk-container-id-36 div.sk-dashed-wrapped {border: 1px dashed gray;margin: 0 0.4em 0.5em 0.4em;box-sizing: border-box;padding-bottom: 0.4em;background-color: white;}#sk-container-id-36 div.sk-label label {font-family: monospace;font-weight: bold;display: inline-block;line-height: 1.2em;}#sk-container-id-36 div.sk-label-container {text-align: center;}#sk-container-id-36 div.sk-container {/* jupyter's `normalize.less` sets `[hidden] { display: none; }` but bootstrap.min.css set `[hidden] { display: none !important; }` so we also need the `!important` here to be able to override the default hidden behavior on the sphinx rendered scikit-learn.org. See: https://github.com/scikit-learn/scikit-learn/issues/21755 */display: inline-block !important;position: relative;}#sk-container-id-36 div.sk-text-repr-fallback {display: none;}</style><div id=\"sk-container-id-36\" class=\"sk-top-container\"><div class=\"sk-text-repr-fallback\"><pre>RandomForestClassifier(random_state=42)</pre><b>In a Jupyter environment, please rerun this cell to show the HTML representation or trust the notebook. <br />On GitHub, the HTML representation is unable to render, please try loading this page with nbviewer.org.</b></div><div class=\"sk-container\" hidden><div class=\"sk-item\"><div class=\"sk-estimator sk-toggleable\"><input class=\"sk-toggleable__control sk-hidden--visually\" id=\"sk-estimator-id-36\" type=\"checkbox\" checked><label for=\"sk-estimator-id-36\" class=\"sk-toggleable__label sk-toggleable__label-arrow\">RandomForestClassifier</label><div class=\"sk-toggleable__content\"><pre>RandomForestClassifier(random_state=42)</pre></div></div></div></div></div>"
      ],
      "text/plain": [
       "RandomForestClassifier(random_state=42)"
      ]
     },
     "execution_count": 244,
     "metadata": {},
     "output_type": "execute_result"
    }
   ],
   "source": [
    "%%time\n",
    "model.fit(X_train, y_train)"
   ]
  },
  {
   "cell_type": "markdown",
   "id": "53dbeab9",
   "metadata": {},
   "source": [
    "# Performance\n"
   ]
  },
  {
   "cell_type": "code",
   "execution_count": 245,
   "id": "8da4ff33",
   "metadata": {},
   "outputs": [
    {
     "data": {
      "text/plain": [
       "98.73997709049256"
      ]
     },
     "execution_count": 245,
     "metadata": {},
     "output_type": "execute_result"
    }
   ],
   "source": [
    "model.score(X_test, y_test) * 100"
   ]
  },
  {
   "cell_type": "markdown",
   "id": "039a969b",
   "metadata": {},
   "source": [
    "The accuracy has slightly increased, but let's look at the increase in predicting winners by looking at the confusion matrix."
   ]
  },
  {
   "cell_type": "code",
   "execution_count": 246,
   "id": "6bcdbd7c",
   "metadata": {},
   "outputs": [
    {
     "name": "stdout",
     "output_type": "stream",
     "text": [
      "TP: 182\n",
      "FN: 25\n",
      "FP: 19\n",
      "TN: 3266\n",
      "Precision: 0.9054726368159204\n"
     ]
    }
   ],
   "source": [
    "y_pred = model.predict(X_test)\n",
    "confusion_matrix(y_test, y_pred)\n",
    "TP = find_TP(y_test, y_pred)\n",
    "FN = find_FN(y_test, y_pred)\n",
    "FP = find_FP(y_test, y_pred)\n",
    "TN = find_TN(y_test, y_pred)\n",
    "print('TP:',TP)\n",
    "print('FN:',FN)\n",
    "print('FP:',FP)\n",
    "print('TN:',TN)\n",
    "precision = TP/(TP+FP)\n",
    "print('Precision:',precision)"
   ]
  },
  {
   "cell_type": "markdown",
   "id": "09039406",
   "metadata": {},
   "source": [
    "This is a significant improvement of 15% from the previous 75% which indicates voter share percentage plays an important role in whether a candidate is a winner or not, and although normally when we want to classify we will not have this statistic, we can use exit polls or preliminary results or similar statistics in order to predict whether the candidate will win or not. In addition, this model doesn't take into account an extremely important factor, which is the candidate's wealth. From previous results we can observe that wealth has a signficiant impact on their chances of winning, whether directly or not, it is strongly correlated with a candidate winning. For example, in the 2019 elections, approximately 30% of candidates had a net worth of over a crore, 88% of winners were crorepatis, which is indicative of the strong correlation.(From: https://www.myneta.info/LokSabha2019/)"
   ]
  },
  {
   "cell_type": "code",
   "execution_count": null,
   "id": "bb6406eb",
   "metadata": {},
   "outputs": [],
   "source": []
  }
 ],
 "metadata": {
  "kernelspec": {
   "display_name": "Python 3 (ipykernel)",
   "language": "python",
   "name": "python3"
  },
  "language_info": {
   "codemirror_mode": {
    "name": "ipython",
    "version": 3
   },
   "file_extension": ".py",
   "mimetype": "text/x-python",
   "name": "python",
   "nbconvert_exporter": "python",
   "pygments_lexer": "ipython3",
   "version": "3.11.4"
  }
 },
 "nbformat": 4,
 "nbformat_minor": 5
}
